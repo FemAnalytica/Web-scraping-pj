{
 "cells": [
  {
   "cell_type": "code",
   "execution_count": 167,
   "id": "5663be66-d172-4f3d-9238-fd79fe369809",
   "metadata": {},
   "outputs": [],
   "source": [
    "from selenium import webdriver\n",
    "from selenium.webdriver.common.by import By\n",
    "from selenium.webdriver.support.ui import WebDriverWait\n",
    "from selenium.webdriver.support import expected_conditions as EC\n",
    "from bs4 import BeautifulSoup\n",
    "import pandas as pd\n",
    "import time"
   ]
  },
  {
   "cell_type": "code",
   "execution_count": 168,
   "id": "5d869301-02a9-4cd1-9ad7-7f3d536cc721",
   "metadata": {},
   "outputs": [],
   "source": [
    "driver = webdriver.Chrome() \n",
    "\n",
    "driver.get(\"https://careersmw.com/\")"
   ]
  },
  {
   "cell_type": "code",
   "execution_count": 169,
   "id": "db8c31e6-8dc0-406f-8578-fb083c8f91e5",
   "metadata": {},
   "outputs": [],
   "source": [
    "def scrape_listings(page_source):\n",
    "    soup = BeautifulSoup(page_source, 'html.parser')\n",
    "    job_listings = soup.find_all('li', class_='job_listing')\n",
    "    listings_data = []\n",
    "    for listing in job_listings:\n",
    "        job_position_elem = listing.find('h3')\n",
    "        job_position = job_position_elem.text.strip() if job_position_elem else None\n",
    "\n",
    "        company_elem = listing.find('div', class_='company')\n",
    "        company = company_elem.strong.text.strip() if company_elem else None\n",
    "\n",
    "        location_elem = listing.find('div', class_='location')\n",
    "        location = location_elem.text.strip() if location_elem else None\n",
    "\n",
    "        job_type_elem = listing.find('li', class_='job-type')\n",
    "        job_type = job_type_elem.text.strip() if job_type_elem else None\n",
    "\n",
    "        posting_date_elem = listing.find('li', class_='date')\n",
    "        posting_date = posting_date_elem.time['datetime'] if posting_date_elem else None\n",
    "\n",
    "        if job_position and company and location and job_type and posting_date:\n",
    "            listing_data = {\n",
    "                'Position': job_position,\n",
    "                'Company': company,\n",
    "                'Location': location,\n",
    "                'Job Type': job_type,\n",
    "                'Posting Date': posting_date\n",
    "            }\n",
    "            listings_data.append(listing_data)\n",
    "    return listings_data\n",
    "\n",
    "\n",
    "while True:\n",
    "    try:\n",
    "        load_more_button = WebDriverWait(driver, 10).until(\n",
    "            EC.element_to_be_clickable((By.CLASS_NAME, \"load_more_jobs\"))\n",
    "        )\n",
    "        load_more_button.click()\n",
    "        time.sleep(2)  \n",
    "        page_source = driver.page_source\n",
    "        new_listings = scrape_listings(page_source)\n",
    "        if not new_listings:\n",
    "            break\n",
    "    except:\n",
    "        break  \n",
    "\n",
    "\n",
    "driver.quit()"
   ]
  },
  {
   "cell_type": "code",
   "execution_count": 170,
   "id": "2850be69-6f92-4c41-a93d-b62db4c3b588",
   "metadata": {},
   "outputs": [
    {
     "name": "stdout",
     "output_type": "stream",
     "text": [
      "                                              Position  \\\n",
      "0                                    OTC Administrator   \n",
      "1                                    Packaging Foreman   \n",
      "2    Consultancy: Sector Skills Gap Analysis for th...   \n",
      "3    Consultancy: Sector Skills Gap Analysis for th...   \n",
      "4    Consultancy: Sector Skills Gap Analysis for th...   \n",
      "..                                                 ...   \n",
      "176                                     Dispatch Rider   \n",
      "177                                     Head of School   \n",
      "178           Assistant FAO Representative (Programme)   \n",
      "179                                 Internship Program   \n",
      "180     Marketing and Corporate Communications Manager   \n",
      "\n",
      "                                     Company               Location  \\\n",
      "0                  Illovo Sugar (Malawi) plc        Limbe, Blantyre   \n",
      "1                  Illovo Sugar (Malawi) plc        Limbe, Blantyre   \n",
      "2                            British Council                 Malawi   \n",
      "3                            British Council                 Malawi   \n",
      "4                            British Council                 Malawi   \n",
      "..                                       ...                    ...   \n",
      "176       H.E. Jackson Engineering Ltd (HEJ)       Lilongwe, Malawi   \n",
      "177         Mount Sinai International School      Lilongwe, Malawi,   \n",
      "178  Food and Agriculture Organization (FAO)       Lilongwe, Malawi   \n",
      "179                            African Union  Addis Ababa, Ethiopia   \n",
      "180      Cannabis Regulatory Authority (CRA)       Lilongwe, Malawi   \n",
      "\n",
      "           Job Type Posting Date  \n",
      "0         Full Time   2024-04-22  \n",
      "1         Full Time   2024-04-19  \n",
      "2       Consultancy   2024-04-19  \n",
      "3       Consultancy   2024-04-19  \n",
      "4       Consultancy   2024-04-19  \n",
      "..              ...          ...  \n",
      "176       Full Time   2024-04-09  \n",
      "177       Full Time   2024-04-05  \n",
      "178  Fixed Contract   2024-04-04  \n",
      "179      Internship   2024-04-03  \n",
      "180       Full Time   2024-04-02  \n",
      "\n",
      "[181 rows x 5 columns]\n"
     ]
    }
   ],
   "source": [
    "df = pd.DataFrame(new_listings)\n",
    "\n",
    "print(df)\n",
    "\n",
    "df.to_csv('job_listings.csv', index=False)"
   ]
  },
  {
   "cell_type": "code",
   "execution_count": null,
   "id": "0bf35118-0244-42ef-a839-a0e7f39ea257",
   "metadata": {},
   "outputs": [],
   "source": []
  }
 ],
 "metadata": {
  "kernelspec": {
   "display_name": "Python 3 (ipykernel)",
   "language": "python",
   "name": "python3"
  },
  "language_info": {
   "codemirror_mode": {
    "name": "ipython",
    "version": 3
   },
   "file_extension": ".py",
   "mimetype": "text/x-python",
   "name": "python",
   "nbconvert_exporter": "python",
   "pygments_lexer": "ipython3",
   "version": "3.8.0"
  }
 },
 "nbformat": 4,
 "nbformat_minor": 5
}
